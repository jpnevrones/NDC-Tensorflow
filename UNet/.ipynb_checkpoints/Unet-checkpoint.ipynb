{
 "cells": [
  {
   "cell_type": "code",
   "execution_count": 4,
   "metadata": {},
   "outputs": [
    {
     "name": "stderr",
     "output_type": "stream",
     "text": [
      "Using TensorFlow backend.\n"
     ]
    }
   ],
   "source": [
    "import os\n",
    "import sys\n",
    "import random\n",
    "import warnings\n",
    "\n",
    "import numpy as np\n",
    "import pandas as pd\n",
    "\n",
    "import matplotlib.pyplot as plt\n",
    "%matplotlib inline  \n",
    "\n",
    "from tqdm import tqdm\n",
    "from itertools import chain\n",
    "from skimage.io import imread, imshow, imread_collection, concatenate_images\n",
    "from skimage.transform import resize\n",
    "from skimage.morphology import label\n",
    "\n",
    "from keras.models import Model, load_model\n",
    "from keras.layers import Input\n",
    "from keras.layers.core import Lambda\n",
    "from keras.layers.convolutional import Conv2D, Conv2DTranspose\n",
    "from keras.layers.pooling import MaxPooling2D\n",
    "from keras.layers.merge import concatenate\n",
    "from keras.callbacks import EarlyStopping, ModelCheckpoint\n",
    "from keras import backend as K\n",
    "\n",
    "import tensorflow as tf\n",
    "\n",
    "import time\n",
    "\n"
   ]
  },
  {
   "cell_type": "code",
   "execution_count": 5,
   "metadata": {
    "collapsed": true
   },
   "outputs": [],
   "source": [
    "start_time = time.time()\n",
    "tcurrent   = start_time\n",
    "\n",
    "# Set golbal parameters\n",
    "IMG_WIDTH = 256\n",
    "IMG_HEIGHT = 256\n",
    "IMG_CHANNELS = 3\n",
    "TRAIN_PATH = 'input/stage1_train/'\n",
    "TEST_PATH = 'input/stage1_test/'\n",
    "\n",
    "warnings.filterwarnings('ignore', category=UserWarning, module='skimage')\n",
    "seed = 545 # original seed: 42\n",
    "random.seed = seed\n",
    "np.random.seed = seed"
   ]
  },
  {
   "cell_type": "code",
   "execution_count": 6,
   "metadata": {},
   "outputs": [],
   "source": [
    "# Get train and test IDs\n",
    "train_ids = next(os.walk(TRAIN_PATH))[1]\n",
    "test_ids = next(os.walk(TEST_PATH))[1]"
   ]
  },
  {
   "cell_type": "code",
   "execution_count": 7,
   "metadata": {},
   "outputs": [
    {
     "name": "stdout",
     "output_type": "stream",
     "text": [
      "Getting and resizing train images and masks ... \n"
     ]
    },
    {
     "name": "stderr",
     "output_type": "stream",
     "text": [
      "100%|████████████████████████████████████████████████████████████████████████████████| 670/670 [01:59<00:00,  5.61it/s]\n"
     ]
    },
    {
     "name": "stdout",
     "output_type": "stream",
     "text": [
      "Getting and resizing test images ... \n"
     ]
    },
    {
     "name": "stderr",
     "output_type": "stream",
     "text": [
      "100%|██████████████████████████████████████████████████████████████████████████████████| 65/65 [00:01<00:00, 50.77it/s]\n"
     ]
    },
    {
     "name": "stdout",
     "output_type": "stream",
     "text": [
      "Done!\n"
     ]
    }
   ],
   "source": [
    "# Get and resize train images and masks\n",
    "X_train = np.zeros((len(train_ids), IMG_HEIGHT, IMG_WIDTH, IMG_CHANNELS), dtype=np.uint8)\n",
    "Y_train = np.zeros((len(train_ids), IMG_HEIGHT, IMG_WIDTH, 1), dtype=np.bool)\n",
    "print('Getting and resizing train images and masks ... ')\n",
    "sys.stdout.flush()\n",
    "for n, id_ in tqdm(enumerate(train_ids), total=len(train_ids)):\n",
    "    path = TRAIN_PATH + id_\n",
    "    img = imread(path + '/images/' + id_ + '.png')[:,:,:IMG_CHANNELS]\n",
    "    img = resize(img, (IMG_HEIGHT, IMG_WIDTH), mode='constant', preserve_range=True)\n",
    "    X_train[n] = img\n",
    "    mask = np.zeros((IMG_HEIGHT, IMG_WIDTH, 1), dtype=np.bool)\n",
    "    for mask_file in next(os.walk(path + '/masks/'))[2]:\n",
    "        mask_ = imread(path + '/masks/' + mask_file)\n",
    "        mask_ = np.expand_dims(resize(mask_, (IMG_HEIGHT, IMG_WIDTH), mode='constant', \n",
    "                                      preserve_range=True), axis=-1)\n",
    "        mask = np.maximum(mask, mask_)\n",
    "    Y_train[n] = mask\n",
    "\n",
    "# Get and resize test images\n",
    "X_test = np.zeros((len(test_ids), IMG_HEIGHT, IMG_WIDTH, IMG_CHANNELS), dtype=np.uint8)\n",
    "sizes_test = []\n",
    "print('Getting and resizing test images ... ')\n",
    "sys.stdout.flush()\n",
    "for n, id_ in tqdm(enumerate(test_ids), total=len(test_ids)):\n",
    "    path = TEST_PATH + id_\n",
    "    img = imread(path + '/images/' + id_ + '.png')[:,:,:IMG_CHANNELS]\n",
    "    sizes_test.append([img.shape[0], img.shape[1]])\n",
    "    img = resize(img, (IMG_HEIGHT, IMG_WIDTH), mode='constant', preserve_range=True)\n",
    "    X_test[n] = img\n",
    "\n",
    "print('Done!')"
   ]
  },
  {
   "cell_type": "code",
   "execution_count": 8,
   "metadata": {},
   "outputs": [
    {
     "data": {
      "image/png": "[encoded data removed]",
      "text/plain": [
       "<matplotlib.figure.Figure at 0x1d178d625f8>"
      ]
     },
     "metadata": {},
     "output_type": "display_data"
    },
    {
     "data": {
      "image/png": "[encoded data removed]",
      "text/plain": [
       "<matplotlib.figure.Figure at 0x1d1754b77b8>"
      ]
     },
     "metadata": {},
     "output_type": "display_data"
    }
   ],
   "source": [
    "# Check if training data looks all right\n",
    "ix = random.randint(0, len(train_ids))\n",
    "imshow(X_train[ix])\n",
    "plt.show()\n",
    "imshow(np.squeeze(Y_train[ix]))\n",
    "plt.show()"
   ]
  },
  {
   "cell_type": "code",
   "execution_count": 9,
   "metadata": {
    "collapsed": true
   },
   "outputs": [],
   "source": [
    "# Define IoU metric\n",
    "def mean_iou(y_true, y_pred):\n",
    "    prec = []\n",
    "    for t in np.arange(0.5, 1.0, 0.05):\n",
    "        y_pred_ = tf.to_int32(y_pred > t)\n",
    "        score, up_opt = tf.metrics.mean_iou(y_true, y_pred_, 2)\n",
    "        K.get_session().run(tf.local_variables_initializer())\n",
    "        with tf.control_dependencies([up_opt]):\n",
    "            score = tf.identity(score)\n",
    "        prec.append(score)\n",
    "    return K.mean(K.stack(prec), axis=0)"
   ]
  },
  {
   "cell_type": "code",
   "execution_count": 10,
   "metadata": {},
   "outputs": [
    {
     "name": "stdout",
     "output_type": "stream",
     "text": [
      "__________________________________________________________________________________________________\n",
      "Layer (type)                    Output Shape         Param #     Connected to                     \n",
      "==================================================================================================\n",
      "input_1 (InputLayer)            (None, 128, 128, 3)  0                                            \n",
      "__________________________________________________________________________________________________\n",
      "lambda_1 (Lambda)               (None, 128, 128, 3)  0           input_1[0][0]                    \n",
      "__________________________________________________________________________________________________\n",
      "conv2d_1 (Conv2D)               (None, 128, 128, 8)  224         lambda_1[0][0]                   \n",
      "__________________________________________________________________________________________________\n",
      "conv2d_2 (Conv2D)               (None, 128, 128, 8)  584         conv2d_1[0][0]                   \n",
      "__________________________________________________________________________________________________\n",
      "max_pooling2d_1 (MaxPooling2D)  (None, 64, 64, 8)    0           conv2d_2[0][0]                   \n",
      "__________________________________________________________________________________________________\n",
      "conv2d_3 (Conv2D)               (None, 64, 64, 16)   1168        max_pooling2d_1[0][0]            \n",
      "__________________________________________________________________________________________________\n",
      "conv2d_4 (Conv2D)               (None, 64, 64, 16)   2320        conv2d_3[0][0]                   \n",
      "__________________________________________________________________________________________________\n",
      "max_pooling2d_2 (MaxPooling2D)  (None, 32, 32, 16)   0           conv2d_4[0][0]                   \n",
      "__________________________________________________________________________________________________\n",
      "conv2d_5 (Conv2D)               (None, 32, 32, 32)   4640        max_pooling2d_2[0][0]            \n",
      "__________________________________________________________________________________________________\n",
      "conv2d_6 (Conv2D)               (None, 32, 32, 32)   9248        conv2d_5[0][0]                   \n",
      "__________________________________________________________________________________________________\n",
      "max_pooling2d_3 (MaxPooling2D)  (None, 16, 16, 32)   0           conv2d_6[0][0]                   \n",
      "__________________________________________________________________________________________________\n",
      "conv2d_7 (Conv2D)               (None, 16, 16, 64)   18496       max_pooling2d_3[0][0]            \n",
      "__________________________________________________________________________________________________\n",
      "conv2d_8 (Conv2D)               (None, 16, 16, 64)   36928       conv2d_7[0][0]                   \n",
      "__________________________________________________________________________________________________\n",
      "max_pooling2d_4 (MaxPooling2D)  (None, 8, 8, 64)     0           conv2d_8[0][0]                   \n",
      "__________________________________________________________________________________________________\n",
      "conv2d_9 (Conv2D)               (None, 8, 8, 128)    73856       max_pooling2d_4[0][0]            \n",
      "__________________________________________________________________________________________________\n",
      "conv2d_10 (Conv2D)              (None, 8, 8, 128)    147584      conv2d_9[0][0]                   \n",
      "__________________________________________________________________________________________________\n",
      "conv2d_transpose_1 (Conv2DTrans (None, 16, 16, 64)   32832       conv2d_10[0][0]                  \n",
      "__________________________________________________________________________________________________\n",
      "concatenate_1 (Concatenate)     (None, 16, 16, 128)  0           conv2d_transpose_1[0][0]         \n",
      "                                                                 conv2d_8[0][0]                   \n",
      "__________________________________________________________________________________________________\n",
      "conv2d_11 (Conv2D)              (None, 16, 16, 64)   73792       concatenate_1[0][0]              \n",
      "__________________________________________________________________________________________________\n",
      "conv2d_12 (Conv2D)              (None, 16, 16, 64)   36928       conv2d_11[0][0]                  \n",
      "__________________________________________________________________________________________________\n",
      "conv2d_transpose_2 (Conv2DTrans (None, 32, 32, 32)   8224        conv2d_12[0][0]                  \n",
      "__________________________________________________________________________________________________\n",
      "concatenate_2 (Concatenate)     (None, 32, 32, 64)   0           conv2d_transpose_2[0][0]         \n",
      "                                                                 conv2d_6[0][0]                   \n",
      "__________________________________________________________________________________________________\n",
      "conv2d_13 (Conv2D)              (None, 32, 32, 32)   18464       concatenate_2[0][0]              \n",
      "__________________________________________________________________________________________________\n",
      "conv2d_14 (Conv2D)              (None, 32, 32, 32)   9248        conv2d_13[0][0]                  \n",
      "__________________________________________________________________________________________________\n",
      "conv2d_transpose_3 (Conv2DTrans (None, 64, 64, 16)   2064        conv2d_14[0][0]                  \n",
      "__________________________________________________________________________________________________\n",
      "concatenate_3 (Concatenate)     (None, 64, 64, 32)   0           conv2d_transpose_3[0][0]         \n",
      "                                                                 conv2d_4[0][0]                   \n",
      "__________________________________________________________________________________________________\n",
      "conv2d_15 (Conv2D)              (None, 64, 64, 16)   4624        concatenate_3[0][0]              \n",
      "__________________________________________________________________________________________________\n",
      "conv2d_16 (Conv2D)              (None, 64, 64, 16)   2320        conv2d_15[0][0]                  \n",
      "__________________________________________________________________________________________________\n",
      "conv2d_transpose_4 (Conv2DTrans (None, 128, 128, 8)  520         conv2d_16[0][0]                  \n",
      "__________________________________________________________________________________________________\n",
      "concatenate_4 (Concatenate)     (None, 128, 128, 16) 0           conv2d_transpose_4[0][0]         \n",
      "                                                                 conv2d_2[0][0]                   \n",
      "__________________________________________________________________________________________________\n",
      "conv2d_17 (Conv2D)              (None, 128, 128, 8)  1160        concatenate_4[0][0]              \n",
      "__________________________________________________________________________________________________\n",
      "conv2d_18 (Conv2D)              (None, 128, 128, 8)  584         conv2d_17[0][0]                  \n",
      "__________________________________________________________________________________________________\n",
      "conv2d_19 (Conv2D)              (None, 128, 128, 1)  9           conv2d_18[0][0]                  \n",
      "==================================================================================================\n",
      "Total params: 485,817\n",
      "Trainable params: 485,817\n",
      "Non-trainable params: 0\n",
      "__________________________________________________________________________________________________\n"
     ]
    }
   ],
   "source": [
    "# Build U-Net model\n",
    "inputs = Input((IMG_HEIGHT, IMG_WIDTH, IMG_CHANNELS))\n",
    "s = Lambda(lambda x: x / 255) (inputs)\n",
    "\n",
    "c1 = Conv2D(8, (3, 3), activation='relu', padding='same') (s)\n",
    "c1 = Conv2D(8, (3, 3), activation='relu', padding='same') (c1)\n",
    "p1 = MaxPooling2D((2, 2)) (c1)\n",
    "\n",
    "c2 = Conv2D(16, (3, 3), activation='relu', padding='same') (p1)\n",
    "c2 = Conv2D(16, (3, 3), activation='relu', padding='same') (c2)\n",
    "p2 = MaxPooling2D((2, 2)) (c2)\n",
    "\n",
    "c3 = Conv2D(32, (3, 3), activation='relu', padding='same') (p2)\n",
    "c3 = Conv2D(32, (3, 3), activation='relu', padding='same') (c3)\n",
    "p3 = MaxPooling2D((2, 2)) (c3)\n",
    "\n",
    "c4 = Conv2D(64, (3, 3), activation='relu', padding='same') (p3)\n",
    "c4 = Conv2D(64, (3, 3), activation='relu', padding='same') (c4)\n",
    "p4 = MaxPooling2D(pool_size=(2, 2)) (c4)\n",
    "\n",
    "c5 = Conv2D(128, (3, 3), activation='relu', padding='same') (p4)\n",
    "c5 = Conv2D(128, (3, 3), activation='relu', padding='same') (c5)\n",
    "p5 = MaxPooling2D(pool_size=(2, 2)) (c5)\n",
    "\n",
    "c = Conv2D(256, (3, 3), activation='relu', padding='same') (p5)\n",
    "c = Conv2D(256, (3, 3), activation='relu', padding='same') (c)\n",
    "\n",
    "u61 = Conv2DTranspose(128, (2, 2), strides=(2, 2), padding='same') (c)\n",
    "u61 = concatenate([u61, c5])\n",
    "c61 = Conv2D(128, (3, 3), activation='relu', padding='same') (u61)\n",
    "c61 = Conv2D(128, (3, 3), activation='relu', padding='same') (c61)\n",
    "\n",
    "u6 = Conv2DTranspose(64, (2, 2), strides=(2, 2), padding='same') (c5)\n",
    "u6 = concatenate([u6, c4])\n",
    "c6 = Conv2D(64, (3, 3), activation='relu', padding='same') (u6)\n",
    "c6 = Conv2D(64, (3, 3), activation='relu', padding='same') (c6)\n",
    "\n",
    "u7 = Conv2DTranspose(32, (2, 2), strides=(2, 2), padding='same') (c6)\n",
    "u7 = concatenate([u7, c3])\n",
    "c7 = Conv2D(32, (3, 3), activation='relu', padding='same') (u7)\n",
    "c7 = Conv2D(32, (3, 3), activation='relu', padding='same') (c7)\n",
    "\n",
    "u8 = Conv2DTranspose(16, (2, 2), strides=(2, 2), padding='same') (c7)\n",
    "u8 = concatenate([u8, c2])\n",
    "c8 = Conv2D(16, (3, 3), activation='relu', padding='same') (u8)\n",
    "c8 = Conv2D(16, (3, 3), activation='relu', padding='same') (c8)\n",
    "\n",
    "u9 = Conv2DTranspose(8, (2, 2), strides=(2, 2), padding='same') (c8)\n",
    "u9 = concatenate([u9, c1], axis=3)\n",
    "c9 = Conv2D(8, (3, 3), activation='relu', padding='same') (u9)\n",
    "c9 = Conv2D(8, (3, 3), activation='relu', padding='same') (c9)\n",
    "\n",
    "outputs = Conv2D(1, (1, 1), activation='sigmoid') (c9)\n",
    "\n",
    "model = Model(inputs=[inputs], outputs=[outputs])\n",
    "model.compile(optimizer='adam', loss='binary_crossentropy', metrics=[mean_iou])\n",
    "model.summary()"
   ]
  },
  {
   "cell_type": "code",
   "execution_count": 11,
   "metadata": {},
   "outputs": [
    {
     "name": "stdout",
     "output_type": "stream",
     "text": [
      "Train on 603 samples, validate on 67 samples\n",
      "Epoch 1/100\n",
      "600/603 [============================>.] - ETA: 2:15 - loss: 0.6891 - mean_iou: 0.0000e+ - ETA: 1:27 - loss: 0.6848 - mean_iou: 0.1987   - ETA: 1:11 - loss: 0.6811 - mean_iou: 0.27 - ETA: 1:02 - loss: 0.6760 - mean_iou: 0.30 - ETA: 57s - loss: 0.6720 - mean_iou: 0.3261 - ETA: 53s - loss: 0.6675 - mean_iou: 0.340 - ETA: 50s - loss: 0.6611 - mean_iou: 0.352 - ETA: 48s - loss: 0.6570 - mean_iou: 0.361 - ETA: 46s - loss: 0.6543 - mean_iou: 0.368 - ETA: 45s - loss: 0.6494 - mean_iou: 0.373 - ETA: 43s - loss: 0.6423 - mean_iou: 0.377 - ETA: 42s - loss: 0.6414 - mean_iou: 0.380 - ETA: 41s - loss: 0.6373 - mean_iou: 0.382 - ETA: 40s - loss: 0.6356 - mean_iou: 0.385 - ETA: 39s - loss: 0.6323 - mean_iou: 0.387 - ETA: 38s - loss: 0.6243 - mean_iou: 0.388 - ETA: 37s - loss: 0.6214 - mean_iou: 0.390 - ETA: 36s - loss: 0.6099 - mean_iou: 0.391 - ETA: 35s - loss: 0.6081 - mean_iou: 0.393 - ETA: 34s - loss: 0.6061 - mean_iou: 0.394 - ETA: 33s - loss: 0.6043 - mean_iou: 0.395 - ETA: 32s - loss: 0.6054 - mean_iou: 0.396 - ETA: 32s - loss: 0.6030 - mean_iou: 0.397 - ETA: 31s - loss: 0.5976 - mean_iou: 0.397 - ETA: 30s - loss: 0.5941 - mean_iou: 0.398 - ETA: 30s - loss: 0.5892 - mean_iou: 0.399 - ETA: 29s - loss: 0.5847 - mean_iou: 0.399 - ETA: 28s - loss: 0.5841 - mean_iou: 0.400 - ETA: 27s - loss: 0.5770 - mean_iou: 0.400 - ETA: 27s - loss: 0.5728 - mean_iou: 0.401 - ETA: 26s - loss: 0.5730 - mean_iou: 0.401 - ETA: 25s - loss: 0.5676 - mean_iou: 0.402 - ETA: 25s - loss: 0.5622 - mean_iou: 0.402 - ETA: 24s - loss: 0.5581 - mean_iou: 0.403 - ETA: 23s - loss: 0.5519 - mean_iou: 0.403 - ETA: 23s - loss: 0.5512 - mean_iou: 0.403 - ETA: 22s - loss: 0.5434 - mean_iou: 0.404 - ETA: 22s - loss: 0.5423 - mean_iou: 0.404 - ETA: 21s - loss: 0.5344 - mean_iou: 0.404 - ETA: 20s - loss: 0.5336 - mean_iou: 0.405 - ETA: 20s - loss: 0.5303 - mean_iou: 0.405 - ETA: 19s - loss: 0.5287 - mean_iou: 0.406 - ETA: 19s - loss: 0.5256 - mean_iou: 0.406 - ETA: 18s - loss: 0.5225 - mean_iou: 0.406 - ETA: 17s - loss: 0.5213 - mean_iou: 0.407 - ETA: 17s - loss: 0.5185 - mean_iou: 0.407 - ETA: 16s - loss: 0.5156 - mean_iou: 0.407 - ETA: 15s - loss: 0.5156 - mean_iou: 0.407 - ETA: 15s - loss: 0.5133 - mean_iou: 0.408 - ETA: 14s - loss: 0.5101 - mean_iou: 0.408 - ETA: 14s - loss: 0.5098 - mean_iou: 0.408 - ETA: 13s - loss: 0.5062 - mean_iou: 0.408 - ETA: 12s - loss: 0.5025 - mean_iou: 0.409 - ETA: 12s - loss: 0.5001 - mean_iou: 0.409 - ETA: 11s - loss: 0.4966 - mean_iou: 0.409 - ETA: 11s - loss: 0.4932 - mean_iou: 0.409 - ETA: 10s - loss: 0.4905 - mean_iou: 0.409 - ETA: 10s - loss: 0.4886 - mean_iou: 0.410 - ETA: 9s - loss: 0.4861 - mean_iou: 0.410 - ETA: 8s - loss: 0.4841 - mean_iou: 0.41 - ETA: 8s - loss: 0.4818 - mean_iou: 0.41 - ETA: 7s - loss: 0.4786 - mean_iou: 0.41 - ETA: 7s - loss: 0.4751 - mean_iou: 0.41 - ETA: 6s - loss: 0.4717 - mean_iou: 0.41 - ETA: 5s - loss: 0.4707 - mean_iou: 0.41 - ETA: 5s - loss: 0.4688 - mean_iou: 0.41 - ETA: 4s - loss: 0.4685 - mean_iou: 0.41 - ETA: 4s - loss: 0.4663 - mean_iou: 0.41 - ETA: 3s - loss: 0.4643 - mean_iou: 0.41 - ETA: 3s - loss: 0.4619 - mean_iou: 0.41 - ETA: 2s - loss: 0.4588 - mean_iou: 0.41 - ETA: 1s - loss: 0.4577 - mean_iou: 0.41 - ETA: 1s - loss: 0.4564 - mean_iou: 0.41 - ETA: 0s - loss: 0.4548 - mean_iou: 0.41 - ETA: 0s - loss: 0.4538 - mean_iou: 0.4131\n",
      "Epoch 00001: val_loss improved from inf to 0.34105, saving model to model-dsbowl2018-1.h5\n",
      "603/603 [==============================] - 47s 77ms/step - loss: 0.4527 - mean_iou: 0.4131 - val_loss: 0.3411 - val_mean_iou: 0.4232\n",
      "Epoch 2/100\n",
      "600/603 [============================>.] - ETA: 42s - loss: 0.3126 - mean_iou: 0.423 - ETA: 48s - loss: 0.3348 - mean_iou: 0.423 - ETA: 45s - loss: 0.3505 - mean_iou: 0.423 - ETA: 44s - loss: 0.3581 - mean_iou: 0.423 - ETA: 42s - loss: 0.3497 - mean_iou: 0.423 - ETA: 41s - loss: 0.3631 - mean_iou: 0.423 - ETA: 42s - loss: 0.3586 - mean_iou: 0.423 - ETA: 41s - loss: 0.3521 - mean_iou: 0.423 - ETA: 40s - loss: 0.3349 - mean_iou: 0.423 - ETA: 39s - loss: 0.3310 - mean_iou: 0.423 - ETA: 38s - loss: 0.3235 - mean_iou: 0.423 - ETA: 39s - loss: 0.3174 - mean_iou: 0.423 - ETA: 38s - loss: 0.3144 - mean_iou: 0.423 - ETA: 38s - loss: 0.3087 - mean_iou: 0.423 - ETA: 37s - loss: 0.3006 - mean_iou: 0.423 - ETA: 37s - loss: 0.2963 - mean_iou: 0.423 - ETA: 37s - loss: 0.2948 - mean_iou: 0.423 - ETA: 36s - loss: 0.2937 - mean_iou: 0.423 - ETA: 35s - loss: 0.2954 - mean_iou: 0.423 - ETA: 35s - loss: 0.2980 - mean_iou: 0.423 - ETA: 34s - loss: 0.2969 - mean_iou: 0.423 - ETA: 33s - loss: 0.2948 - mean_iou: 0.423 - ETA: 33s - loss: 0.2918 - mean_iou: 0.423 - ETA: 32s - loss: 0.2880 - mean_iou: 0.423 - ETA: 31s - loss: 0.2857 - mean_iou: 0.423 - ETA: 30s - loss: 0.2825 - mean_iou: 0.423 - ETA: 30s - loss: 0.2829 - mean_iou: 0.423 - ETA: 29s - loss: 0.2846 - mean_iou: 0.423 - ETA: 28s - loss: 0.2827 - mean_iou: 0.423 - ETA: 28s - loss: 0.2812 - mean_iou: 0.423 - ETA: 27s - loss: 0.2810 - mean_iou: 0.423 - ETA: 26s - loss: 0.2803 - mean_iou: 0.423 - ETA: 26s - loss: 0.2796 - mean_iou: 0.423 - ETA: 25s - loss: 0.2793 - mean_iou: 0.423 - ETA: 25s - loss: 0.2790 - mean_iou: 0.423 - ETA: 24s - loss: 0.2797 - mean_iou: 0.423 - ETA: 23s - loss: 0.2797 - mean_iou: 0.423 - ETA: 23s - loss: 0.2794 - mean_iou: 0.423 - ETA: 22s - loss: 0.2795 - mean_iou: 0.423 - ETA: 21s - loss: 0.2795 - mean_iou: 0.423 - ETA: 21s - loss: 0.2808 - mean_iou: 0.423 - ETA: 20s - loss: 0.2794 - mean_iou: 0.423 - ETA: 19s - loss: 0.2801 - mean_iou: 0.423 - ETA: 19s - loss: 0.2798 - mean_iou: 0.423 - ETA: 18s - loss: 0.2765 - mean_iou: 0.423 - ETA: 17s - loss: 0.2747 - mean_iou: 0.423 - ETA: 17s - loss: 0.2749 - mean_iou: 0.423 - ETA: 16s - loss: 0.2741 - mean_iou: 0.423 - ETA: 16s - loss: 0.2712 - mean_iou: 0.423 - ETA: 15s - loss: 0.2697 - mean_iou: 0.423 - ETA: 14s - loss: 0.2679 - mean_iou: 0.423 - ETA: 14s - loss: 0.2671 - mean_iou: 0.423 - ETA: 13s - loss: 0.2648 - mean_iou: 0.423 - ETA: 12s - loss: 0.2625 - mean_iou: 0.423 - ETA: 12s - loss: 0.2601 - mean_iou: 0.423 - ETA: 11s - loss: 0.2610 - mean_iou: 0.423 - ETA: 11s - loss: 0.2600 - mean_iou: 0.423 - ETA: 10s - loss: 0.2596 - mean_iou: 0.423 - ETA: 9s - loss: 0.2602 - mean_iou: 0.423 - ETA: 9s - loss: 0.2593 - mean_iou: 0.42 - ETA: 8s - loss: 0.2579 - mean_iou: 0.42 - ETA: 8s - loss: 0.2576 - mean_iou: 0.42 - ETA: 7s - loss: 0.2552 - mean_iou: 0.42 - ETA: 6s - loss: 0.2541 - mean_iou: 0.42 - ETA: 6s - loss: 0.2518 - mean_iou: 0.42 - ETA: 5s - loss: 0.2513 - mean_iou: 0.42 - ETA: 4s - loss: 0.2500 - mean_iou: 0.42 - ETA: 4s - loss: 0.2502 - mean_iou: 0.42 - ETA: 3s - loss: 0.2502 - mean_iou: 0.42 - ETA: 3s - loss: 0.2507 - mean_iou: 0.42 - ETA: 2s - loss: 0.2499 - mean_iou: 0.42 - ETA: 1s - loss: 0.2497 - mean_iou: 0.42 - ETA: 1s - loss: 0.2500 - mean_iou: 0.42 - ETA: 0s - loss: 0.2494 - mean_iou: 0.42 - ETA: 0s - loss: 0.2488 - mean_iou: 0.4237\n",
      "Epoch 00002: val_loss improved from 0.34105 to 0.18161, saving model to model-dsbowl2018-1.h5\n",
      "603/603 [==============================] - 47s 78ms/step - loss: 0.2479 - mean_iou: 0.4238 - val_loss: 0.1816 - val_mean_iou: 0.4278\n",
      "Epoch 3/100\n"
     ]
    },
    {
     "name": "stdout",
     "output_type": "stream",
     "text": [
      "600/603 [============================>.] - ETA: 45s - loss: 0.1499 - mean_iou: 0.429 - ETA: 46s - loss: 0.1878 - mean_iou: 0.429 - ETA: 44s - loss: 0.1815 - mean_iou: 0.429 - ETA: 44s - loss: 0.1833 - mean_iou: 0.429 - ETA: 42s - loss: 0.1811 - mean_iou: 0.429 - ETA: 42s - loss: 0.1817 - mean_iou: 0.429 - ETA: 41s - loss: 0.1936 - mean_iou: 0.430 - ETA: 40s - loss: 0.2007 - mean_iou: 0.430 - ETA: 39s - loss: 0.2066 - mean_iou: 0.430 - ETA: 39s - loss: 0.2131 - mean_iou: 0.430 - ETA: 38s - loss: 0.2146 - mean_iou: 0.430 - ETA: 37s - loss: 0.2159 - mean_iou: 0.430 - ETA: 36s - loss: 0.2133 - mean_iou: 0.431 - ETA: 36s - loss: 0.2069 - mean_iou: 0.431 - ETA: 35s - loss: 0.2056 - mean_iou: 0.431 - ETA: 35s - loss: 0.1983 - mean_iou: 0.431 - ETA: 34s - loss: 0.1910 - mean_iou: 0.431 - ETA: 34s - loss: 0.1871 - mean_iou: 0.432 - ETA: 33s - loss: 0.1844 - mean_iou: 0.432 - ETA: 32s - loss: 0.1852 - mean_iou: 0.432 - ETA: 32s - loss: 0.1838 - mean_iou: 0.433 - ETA: 32s - loss: 0.1826 - mean_iou: 0.433 - ETA: 31s - loss: 0.1835 - mean_iou: 0.433 - ETA: 30s - loss: 0.1824 - mean_iou: 0.433 - ETA: 30s - loss: 0.1805 - mean_iou: 0.434 - ETA: 29s - loss: 0.1812 - mean_iou: 0.434 - ETA: 29s - loss: 0.1803 - mean_iou: 0.434 - ETA: 28s - loss: 0.1799 - mean_iou: 0.435 - ETA: 27s - loss: 0.1777 - mean_iou: 0.435 - ETA: 27s - loss: 0.1794 - mean_iou: 0.435 - ETA: 26s - loss: 0.1771 - mean_iou: 0.436 - ETA: 26s - loss: 0.1762 - mean_iou: 0.436 - ETA: 25s - loss: 0.1742 - mean_iou: 0.437 - ETA: 24s - loss: 0.1720 - mean_iou: 0.437 - ETA: 24s - loss: 0.1713 - mean_iou: 0.438 - ETA: 23s - loss: 0.1694 - mean_iou: 0.438 - ETA: 23s - loss: 0.1687 - mean_iou: 0.439 - ETA: 22s - loss: 0.1684 - mean_iou: 0.439 - ETA: 21s - loss: 0.1685 - mean_iou: 0.440 - ETA: 21s - loss: 0.1682 - mean_iou: 0.440 - ETA: 20s - loss: 0.1722 - mean_iou: 0.441 - ETA: 19s - loss: 0.1715 - mean_iou: 0.441 - ETA: 19s - loss: 0.1723 - mean_iou: 0.442 - ETA: 18s - loss: 0.1708 - mean_iou: 0.442 - ETA: 18s - loss: 0.1706 - mean_iou: 0.443 - ETA: 17s - loss: 0.1695 - mean_iou: 0.443 - ETA: 16s - loss: 0.1688 - mean_iou: 0.444 - ETA: 16s - loss: 0.1683 - mean_iou: 0.444 - ETA: 15s - loss: 0.1668 - mean_iou: 0.445 - ETA: 14s - loss: 0.1653 - mean_iou: 0.445 - ETA: 14s - loss: 0.1638 - mean_iou: 0.446 - ETA: 13s - loss: 0.1638 - mean_iou: 0.446 - ETA: 13s - loss: 0.1637 - mean_iou: 0.447 - ETA: 12s - loss: 0.1645 - mean_iou: 0.447 - ETA: 12s - loss: 0.1636 - mean_iou: 0.448 - ETA: 11s - loss: 0.1630 - mean_iou: 0.448 - ETA: 10s - loss: 0.1625 - mean_iou: 0.449 - ETA: 10s - loss: 0.1636 - mean_iou: 0.449 - ETA: 9s - loss: 0.1625 - mean_iou: 0.450 - ETA: 9s - loss: 0.1610 - mean_iou: 0.45 - ETA: 8s - loss: 0.1596 - mean_iou: 0.45 - ETA: 7s - loss: 0.1600 - mean_iou: 0.45 - ETA: 7s - loss: 0.1596 - mean_iou: 0.45 - ETA: 6s - loss: 0.1591 - mean_iou: 0.45 - ETA: 6s - loss: 0.1590 - mean_iou: 0.45 - ETA: 5s - loss: 0.1588 - mean_iou: 0.45 - ETA: 4s - loss: 0.1582 - mean_iou: 0.45 - ETA: 4s - loss: 0.1576 - mean_iou: 0.45 - ETA: 3s - loss: 0.1572 - mean_iou: 0.45 - ETA: 3s - loss: 0.1564 - mean_iou: 0.45 - ETA: 2s - loss: 0.1557 - mean_iou: 0.45 - ETA: 2s - loss: 0.1558 - mean_iou: 0.45 - ETA: 1s - loss: 0.1549 - mean_iou: 0.45 - ETA: 0s - loss: 0.1541 - mean_iou: 0.45 - ETA: 0s - loss: 0.1535 - mean_iou: 0.4586\n",
      "Epoch 00003: val_loss improved from 0.18161 to 0.12229, saving model to model-dsbowl2018-1.h5\n",
      "603/603 [==============================] - 48s 79ms/step - loss: 0.1535 - mean_iou: 0.4588 - val_loss: 0.1223 - val_mean_iou: 0.5022\n",
      "Epoch 4/100\n",
      "600/603 [============================>.] - ETA: 39s - loss: 0.1632 - mean_iou: 0.506 - ETA: 39s - loss: 0.1468 - mean_iou: 0.507 - ETA: 39s - loss: 0.1525 - mean_iou: 0.507 - ETA: 39s - loss: 0.1330 - mean_iou: 0.508 - ETA: 39s - loss: 0.1287 - mean_iou: 0.508 - ETA: 38s - loss: 0.1257 - mean_iou: 0.509 - ETA: 38s - loss: 0.1240 - mean_iou: 0.509 - ETA: 37s - loss: 0.1281 - mean_iou: 0.510 - ETA: 37s - loss: 0.1293 - mean_iou: 0.510 - ETA: 36s - loss: 0.1240 - mean_iou: 0.511 - ETA: 35s - loss: 0.1198 - mean_iou: 0.511 - ETA: 35s - loss: 0.1184 - mean_iou: 0.512 - ETA: 34s - loss: 0.1210 - mean_iou: 0.512 - ETA: 34s - loss: 0.1174 - mean_iou: 0.513 - ETA: 34s - loss: 0.1192 - mean_iou: 0.513 - ETA: 33s - loss: 0.1199 - mean_iou: 0.513 - ETA: 33s - loss: 0.1167 - mean_iou: 0.514 - ETA: 32s - loss: 0.1178 - mean_iou: 0.514 - ETA: 32s - loss: 0.1158 - mean_iou: 0.515 - ETA: 31s - loss: 0.1154 - mean_iou: 0.515 - ETA: 31s - loss: 0.1161 - mean_iou: 0.516 - ETA: 30s - loss: 0.1158 - mean_iou: 0.516 - ETA: 30s - loss: 0.1146 - mean_iou: 0.517 - ETA: 29s - loss: 0.1133 - mean_iou: 0.517 - ETA: 29s - loss: 0.1161 - mean_iou: 0.518 - ETA: 28s - loss: 0.1152 - mean_iou: 0.518 - ETA: 28s - loss: 0.1136 - mean_iou: 0.519 - ETA: 27s - loss: 0.1144 - mean_iou: 0.519 - ETA: 27s - loss: 0.1148 - mean_iou: 0.520 - ETA: 26s - loss: 0.1139 - mean_iou: 0.520 - ETA: 25s - loss: 0.1158 - mean_iou: 0.521 - ETA: 25s - loss: 0.1149 - mean_iou: 0.521 - ETA: 24s - loss: 0.1198 - mean_iou: 0.521 - ETA: 24s - loss: 0.1191 - mean_iou: 0.522 - ETA: 23s - loss: 0.1190 - mean_iou: 0.522 - ETA: 23s - loss: 0.1193 - mean_iou: 0.523 - ETA: 22s - loss: 0.1199 - mean_iou: 0.523 - ETA: 22s - loss: 0.1196 - mean_iou: 0.524 - ETA: 21s - loss: 0.1219 - mean_iou: 0.524 - ETA: 20s - loss: 0.1210 - mean_iou: 0.524 - ETA: 20s - loss: 0.1203 - mean_iou: 0.525 - ETA: 19s - loss: 0.1203 - mean_iou: 0.525 - ETA: 19s - loss: 0.1218 - mean_iou: 0.526 - ETA: 18s - loss: 0.1205 - mean_iou: 0.526 - ETA: 18s - loss: 0.1212 - mean_iou: 0.527 - ETA: 17s - loss: 0.1215 - mean_iou: 0.527 - ETA: 16s - loss: 0.1222 - mean_iou: 0.527 - ETA: 16s - loss: 0.1229 - mean_iou: 0.528 - ETA: 15s - loss: 0.1221 - mean_iou: 0.528 - ETA: 15s - loss: 0.1220 - mean_iou: 0.529 - ETA: 14s - loss: 0.1222 - mean_iou: 0.529 - ETA: 14s - loss: 0.1212 - mean_iou: 0.529 - ETA: 13s - loss: 0.1213 - mean_iou: 0.530 - ETA: 12s - loss: 0.1211 - mean_iou: 0.530 - ETA: 12s - loss: 0.1209 - mean_iou: 0.531 - ETA: 11s - loss: 0.1204 - mean_iou: 0.531 - ETA: 11s - loss: 0.1212 - mean_iou: 0.532 - ETA: 10s - loss: 0.1209 - mean_iou: 0.532 - ETA: 9s - loss: 0.1202 - mean_iou: 0.532 - ETA: 9s - loss: 0.1200 - mean_iou: 0.53 - ETA: 8s - loss: 0.1192 - mean_iou: 0.53 - ETA: 8s - loss: 0.1192 - mean_iou: 0.53 - ETA: 7s - loss: 0.1195 - mean_iou: 0.53 - ETA: 7s - loss: 0.1191 - mean_iou: 0.53 - ETA: 6s - loss: 0.1187 - mean_iou: 0.53 - ETA: 5s - loss: 0.1185 - mean_iou: 0.53 - ETA: 5s - loss: 0.1182 - mean_iou: 0.53 - ETA: 4s - loss: 0.1175 - mean_iou: 0.53 - ETA: 4s - loss: 0.1172 - mean_iou: 0.53 - ETA: 3s - loss: 0.1178 - mean_iou: 0.53 - ETA: 2s - loss: 0.1180 - mean_iou: 0.53 - ETA: 2s - loss: 0.1184 - mean_iou: 0.53 - ETA: 1s - loss: 0.1188 - mean_iou: 0.53 - ETA: 0s - loss: 0.1181 - mean_iou: 0.53 - ETA: 0s - loss: 0.1181 - mean_iou: 0.5392\n",
      "Epoch 00004: val_loss improved from 0.12229 to 0.11425, saving model to model-dsbowl2018-1.h5\n",
      "603/603 [==============================] - 50s 84ms/step - loss: 0.1183 - mean_iou: 0.5393 - val_loss: 0.1143 - val_mean_iou: 0.5710\n",
      "Epoch 5/100\n"
     ]
    },
    {
     "name": "stdout",
     "output_type": "stream",
     "text": [
      "600/603 [============================>.] - ETA: 43s - loss: 0.1361 - mean_iou: 0.573 - ETA: 45s - loss: 0.1550 - mean_iou: 0.574 - ETA: 47s - loss: 0.1316 - mean_iou: 0.574 - ETA: 45s - loss: 0.1422 - mean_iou: 0.574 - ETA: 43s - loss: 0.1562 - mean_iou: 0.575 - ETA: 42s - loss: 0.1438 - mean_iou: 0.575 - ETA: 41s - loss: 0.1387 - mean_iou: 0.575 - ETA: 41s - loss: 0.1354 - mean_iou: 0.576 - ETA: 40s - loss: 0.1322 - mean_iou: 0.576 - ETA: 39s - loss: 0.1267 - mean_iou: 0.576 - ETA: 38s - loss: 0.1208 - mean_iou: 0.576 - ETA: 37s - loss: 0.1204 - mean_iou: 0.577 - ETA: 37s - loss: 0.1225 - mean_iou: 0.577 - ETA: 36s - loss: 0.1218 - mean_iou: 0.577 - ETA: 36s - loss: 0.1212 - mean_iou: 0.577 - ETA: 35s - loss: 0.1245 - mean_iou: 0.578 - ETA: 35s - loss: 0.1260 - mean_iou: 0.578 - ETA: 34s - loss: 0.1277 - mean_iou: 0.578 - ETA: 34s - loss: 0.1252 - mean_iou: 0.578 - ETA: 33s - loss: 0.1270 - mean_iou: 0.579 - ETA: 32s - loss: 0.1264 - mean_iou: 0.579 - ETA: 32s - loss: 0.1279 - mean_iou: 0.579 - ETA: 31s - loss: 0.1291 - mean_iou: 0.579 - ETA: 30s - loss: 0.1291 - mean_iou: 0.580 - ETA: 29s - loss: 0.1272 - mean_iou: 0.580 - ETA: 29s - loss: 0.1283 - mean_iou: 0.580 - ETA: 28s - loss: 0.1291 - mean_iou: 0.581 - ETA: 27s - loss: 0.1315 - mean_iou: 0.581 - ETA: 27s - loss: 0.1302 - mean_iou: 0.581 - ETA: 26s - loss: 0.1289 - mean_iou: 0.581 - ETA: 25s - loss: 0.1321 - mean_iou: 0.582 - ETA: 25s - loss: 0.1310 - mean_iou: 0.582 - ETA: 24s - loss: 0.1308 - mean_iou: 0.582 - ETA: 23s - loss: 0.1325 - mean_iou: 0.582 - ETA: 23s - loss: 0.1318 - mean_iou: 0.583 - ETA: 22s - loss: 0.1310 - mean_iou: 0.583 - ETA: 22s - loss: 0.1300 - mean_iou: 0.583 - ETA: 21s - loss: 0.1276 - mean_iou: 0.583 - ETA: 20s - loss: 0.1290 - mean_iou: 0.583 - ETA: 20s - loss: 0.1286 - mean_iou: 0.584 - ETA: 19s - loss: 0.1302 - mean_iou: 0.584 - ETA: 19s - loss: 0.1316 - mean_iou: 0.584 - ETA: 18s - loss: 0.1300 - mean_iou: 0.584 - ETA: 18s - loss: 0.1298 - mean_iou: 0.585 - ETA: 17s - loss: 0.1311 - mean_iou: 0.585 - ETA: 17s - loss: 0.1299 - mean_iou: 0.585 - ETA: 16s - loss: 0.1297 - mean_iou: 0.585 - ETA: 16s - loss: 0.1296 - mean_iou: 0.585 - ETA: 15s - loss: 0.1305 - mean_iou: 0.586 - ETA: 14s - loss: 0.1303 - mean_iou: 0.586 - ETA: 14s - loss: 0.1291 - mean_iou: 0.586 - ETA: 13s - loss: 0.1301 - mean_iou: 0.586 - ETA: 13s - loss: 0.1291 - mean_iou: 0.586 - ETA: 12s - loss: 0.1286 - mean_iou: 0.587 - ETA: 12s - loss: 0.1291 - mean_iou: 0.587 - ETA: 11s - loss: 0.1289 - mean_iou: 0.587 - ETA: 10s - loss: 0.1282 - mean_iou: 0.587 - ETA: 10s - loss: 0.1275 - mean_iou: 0.588 - ETA: 9s - loss: 0.1277 - mean_iou: 0.588 - ETA: 9s - loss: 0.1277 - mean_iou: 0.58 - ETA: 8s - loss: 0.1278 - mean_iou: 0.58 - ETA: 7s - loss: 0.1280 - mean_iou: 0.58 - ETA: 7s - loss: 0.1274 - mean_iou: 0.58 - ETA: 6s - loss: 0.1286 - mean_iou: 0.58 - ETA: 6s - loss: 0.1292 - mean_iou: 0.58 - ETA: 5s - loss: 0.1295 - mean_iou: 0.58 - ETA: 5s - loss: 0.1301 - mean_iou: 0.59 - ETA: 4s - loss: 0.1296 - mean_iou: 0.59 - ETA: 3s - loss: 0.1296 - mean_iou: 0.59 - ETA: 3s - loss: 0.1295 - mean_iou: 0.59 - ETA: 2s - loss: 0.1295 - mean_iou: 0.59 - ETA: 2s - loss: 0.1302 - mean_iou: 0.59 - ETA: 1s - loss: 0.1300 - mean_iou: 0.59 - ETA: 0s - loss: 0.1292 - mean_iou: 0.59 - ETA: 0s - loss: 0.1287 - mean_iou: 0.5918\n",
      "Epoch 00005: val_loss did not improve\n",
      "603/603 [==============================] - 49s 81ms/step - loss: 0.1285 - mean_iou: 0.5919 - val_loss: 0.1143 - val_mean_iou: 0.6105\n",
      "Epoch 6/100\n",
      "600/603 [============================>.] - ETA: 59s - loss: 0.0782 - mean_iou: 0.612 - ETA: 59s - loss: 0.0993 - mean_iou: 0.612 - ETA: 57s - loss: 0.1214 - mean_iou: 0.613 - ETA: 56s - loss: 0.1100 - mean_iou: 0.613 - ETA: 54s - loss: 0.0996 - mean_iou: 0.613 - ETA: 51s - loss: 0.0974 - mean_iou: 0.613 - ETA: 48s - loss: 0.0948 - mean_iou: 0.613 - ETA: 46s - loss: 0.0965 - mean_iou: 0.614 - ETA: 45s - loss: 0.0983 - mean_iou: 0.614 - ETA: 44s - loss: 0.0940 - mean_iou: 0.614 - ETA: 44s - loss: 0.0982 - mean_iou: 0.614 - ETA: 43s - loss: 0.1036 - mean_iou: 0.614 - ETA: 42s - loss: 0.1065 - mean_iou: 0.615 - ETA: 42s - loss: 0.1079 - mean_iou: 0.615 - ETA: 41s - loss: 0.1106 - mean_iou: 0.615 - ETA: 39s - loss: 0.1131 - mean_iou: 0.615 - ETA: 39s - loss: 0.1195 - mean_iou: 0.615 - ETA: 38s - loss: 0.1189 - mean_iou: 0.616 - ETA: 38s - loss: 0.1202 - mean_iou: 0.616 - ETA: 38s - loss: 0.1220 - mean_iou: 0.616 - ETA: 37s - loss: 0.1223 - mean_iou: 0.616 - ETA: 36s - loss: 0.1206 - mean_iou: 0.617 - ETA: 35s - loss: 0.1233 - mean_iou: 0.617 - ETA: 34s - loss: 0.1217 - mean_iou: 0.617 - ETA: 33s - loss: 0.1212 - mean_iou: 0.617 - ETA: 32s - loss: 0.1205 - mean_iou: 0.617 - ETA: 31s - loss: 0.1187 - mean_iou: 0.617 - ETA: 31s - loss: 0.1182 - mean_iou: 0.618 - ETA: 30s - loss: 0.1177 - mean_iou: 0.618 - ETA: 30s - loss: 0.1176 - mean_iou: 0.618 - ETA: 29s - loss: 0.1170 - mean_iou: 0.618 - ETA: 29s - loss: 0.1156 - mean_iou: 0.618 - ETA: 28s - loss: 0.1150 - mean_iou: 0.619 - ETA: 27s - loss: 0.1171 - mean_iou: 0.619 - ETA: 26s - loss: 0.1165 - mean_iou: 0.619 - ETA: 26s - loss: 0.1160 - mean_iou: 0.619 - ETA: 25s - loss: 0.1143 - mean_iou: 0.619 - ETA: 25s - loss: 0.1156 - mean_iou: 0.619 - ETA: 24s - loss: 0.1147 - mean_iou: 0.620 - ETA: 24s - loss: 0.1154 - mean_iou: 0.620 - ETA: 23s - loss: 0.1160 - mean_iou: 0.620 - ETA: 22s - loss: 0.1151 - mean_iou: 0.620 - ETA: 22s - loss: 0.1144 - mean_iou: 0.620 - ETA: 21s - loss: 0.1132 - mean_iou: 0.621 - ETA: 20s - loss: 0.1124 - mean_iou: 0.621 - ETA: 20s - loss: 0.1119 - mean_iou: 0.621 - ETA: 19s - loss: 0.1109 - mean_iou: 0.621 - ETA: 19s - loss: 0.1102 - mean_iou: 0.621 - ETA: 18s - loss: 0.1086 - mean_iou: 0.622 - ETA: 17s - loss: 0.1090 - mean_iou: 0.622 - ETA: 17s - loss: 0.1093 - mean_iou: 0.622 - ETA: 16s - loss: 0.1085 - mean_iou: 0.622 - ETA: 15s - loss: 0.1076 - mean_iou: 0.622 - ETA: 14s - loss: 0.1077 - mean_iou: 0.623 - ETA: 14s - loss: 0.1073 - mean_iou: 0.623 - ETA: 13s - loss: 0.1076 - mean_iou: 0.623 - ETA: 12s - loss: 0.1075 - mean_iou: 0.623 - ETA: 12s - loss: 0.1079 - mean_iou: 0.623 - ETA: 11s - loss: 0.1088 - mean_iou: 0.624 - ETA: 10s - loss: 0.1094 - mean_iou: 0.624 - ETA: 10s - loss: 0.1092 - mean_iou: 0.624 - ETA: 9s - loss: 0.1089 - mean_iou: 0.624 - ETA: 8s - loss: 0.1101 - mean_iou: 0.62 - ETA: 7s - loss: 0.1106 - mean_iou: 0.62 - ETA: 7s - loss: 0.1107 - mean_iou: 0.62 - ETA: 6s - loss: 0.1106 - mean_iou: 0.62 - ETA: 5s - loss: 0.1101 - mean_iou: 0.62 - ETA: 5s - loss: 0.1102 - mean_iou: 0.62 - ETA: 4s - loss: 0.1102 - mean_iou: 0.62 - ETA: 3s - loss: 0.1100 - mean_iou: 0.62 - ETA: 2s - loss: 0.1102 - mean_iou: 0.62 - ETA: 2s - loss: 0.1105 - mean_iou: 0.62 - ETA: 1s - loss: 0.1106 - mean_iou: 0.62 - ETA: 0s - loss: 0.1107 - mean_iou: 0.62 - ETA: 0s - loss: 0.1110 - mean_iou: 0.6269\n",
      "Epoch 00006: val_loss improved from 0.11425 to 0.10373, saving model to model-dsbowl2018-1.h5\n",
      "603/603 [==============================] - 54s 89ms/step - loss: 0.1109 - mean_iou: 0.6269 - val_loss: 0.1037 - val_mean_iou: 0.6416\n",
      "Epoch 7/100\n"
     ]
    },
    {
     "name": "stdout",
     "output_type": "stream",
     "text": [
      "600/603 [============================>.] - ETA: 44s - loss: 0.1150 - mean_iou: 0.643 - ETA: 52s - loss: 0.1134 - mean_iou: 0.643 - ETA: 53s - loss: 0.1138 - mean_iou: 0.643 - ETA: 54s - loss: 0.1100 - mean_iou: 0.643 - ETA: 51s - loss: 0.1073 - mean_iou: 0.643 - ETA: 48s - loss: 0.1069 - mean_iou: 0.643 - ETA: 47s - loss: 0.1026 - mean_iou: 0.644 - ETA: 46s - loss: 0.1045 - mean_iou: 0.644 - ETA: 45s - loss: 0.1162 - mean_iou: 0.644 - ETA: 43s - loss: 0.1136 - mean_iou: 0.644 - ETA: 43s - loss: 0.1128 - mean_iou: 0.644 - ETA: 42s - loss: 0.1125 - mean_iou: 0.644 - ETA: 42s - loss: 0.1094 - mean_iou: 0.645 - ETA: 41s - loss: 0.1071 - mean_iou: 0.645 - ETA: 40s - loss: 0.1062 - mean_iou: 0.645 - ETA: 39s - loss: 0.1057 - mean_iou: 0.645 - ETA: 38s - loss: 0.1069 - mean_iou: 0.645 - ETA: 38s - loss: 0.1043 - mean_iou: 0.645 - ETA: 37s - loss: 0.1052 - mean_iou: 0.646 - ETA: 37s - loss: 0.1042 - mean_iou: 0.646 - ETA: 36s - loss: 0.1057 - mean_iou: 0.646 - ETA: 35s - loss: 0.1047 - mean_iou: 0.646 - ETA: 34s - loss: 0.1038 - mean_iou: 0.646 - ETA: 33s - loss: 0.1027 - mean_iou: 0.647 - ETA: 33s - loss: 0.1023 - mean_iou: 0.647 - ETA: 32s - loss: 0.1012 - mean_iou: 0.647 - ETA: 31s - loss: 0.1048 - mean_iou: 0.647 - ETA: 31s - loss: 0.1031 - mean_iou: 0.647 - ETA: 30s - loss: 0.1020 - mean_iou: 0.647 - ETA: 30s - loss: 0.1012 - mean_iou: 0.648 - ETA: 29s - loss: 0.1031 - mean_iou: 0.648 - ETA: 29s - loss: 0.1034 - mean_iou: 0.648 - ETA: 28s - loss: 0.1047 - mean_iou: 0.648 - ETA: 27s - loss: 0.1040 - mean_iou: 0.648 - ETA: 27s - loss: 0.1045 - mean_iou: 0.648 - ETA: 26s - loss: 0.1041 - mean_iou: 0.649 - ETA: 25s - loss: 0.1032 - mean_iou: 0.649 - ETA: 25s - loss: 0.1027 - mean_iou: 0.649 - ETA: 24s - loss: 0.1029 - mean_iou: 0.649 - ETA: 23s - loss: 0.1022 - mean_iou: 0.649 - ETA: 22s - loss: 0.1021 - mean_iou: 0.649 - ETA: 21s - loss: 0.1014 - mean_iou: 0.649 - ETA: 21s - loss: 0.1011 - mean_iou: 0.650 - ETA: 20s - loss: 0.0995 - mean_iou: 0.650 - ETA: 19s - loss: 0.1001 - mean_iou: 0.650 - ETA: 19s - loss: 0.1024 - mean_iou: 0.650 - ETA: 18s - loss: 0.1034 - mean_iou: 0.650 - ETA: 17s - loss: 0.1034 - mean_iou: 0.650 - ETA: 16s - loss: 0.1022 - mean_iou: 0.650 - ETA: 16s - loss: 0.1020 - mean_iou: 0.651 - ETA: 15s - loss: 0.1013 - mean_iou: 0.651 - ETA: 14s - loss: 0.1013 - mean_iou: 0.651 - ETA: 14s - loss: 0.1015 - mean_iou: 0.651 - ETA: 13s - loss: 0.1033 - mean_iou: 0.651 - ETA: 13s - loss: 0.1029 - mean_iou: 0.651 - ETA: 12s - loss: 0.1021 - mean_iou: 0.652 - ETA: 11s - loss: 0.1025 - mean_iou: 0.652 - ETA: 11s - loss: 0.1022 - mean_iou: 0.652 - ETA: 10s - loss: 0.1021 - mean_iou: 0.652 - ETA: 9s - loss: 0.1020 - mean_iou: 0.652 - ETA: 9s - loss: 0.1012 - mean_iou: 0.65 - ETA: 8s - loss: 0.1008 - mean_iou: 0.65 - ETA: 8s - loss: 0.1006 - mean_iou: 0.65 - ETA: 7s - loss: 0.1009 - mean_iou: 0.65 - ETA: 6s - loss: 0.1006 - mean_iou: 0.65 - ETA: 6s - loss: 0.1006 - mean_iou: 0.65 - ETA: 5s - loss: 0.1005 - mean_iou: 0.65 - ETA: 4s - loss: 0.1001 - mean_iou: 0.65 - ETA: 4s - loss: 0.1002 - mean_iou: 0.65 - ETA: 3s - loss: 0.1005 - mean_iou: 0.65 - ETA: 2s - loss: 0.1003 - mean_iou: 0.65 - ETA: 2s - loss: 0.0999 - mean_iou: 0.65 - ETA: 1s - loss: 0.0996 - mean_iou: 0.65 - ETA: 0s - loss: 0.0995 - mean_iou: 0.65 - ETA: 0s - loss: 0.0991 - mean_iou: 0.6547\n",
      "Epoch 00007: val_loss did not improve\n",
      "603/603 [==============================] - 50s 83ms/step - loss: 0.0990 - mean_iou: 0.6547 - val_loss: 0.1058 - val_mean_iou: 0.6662\n",
      "Epoch 8/100\n",
      "600/603 [============================>.] - ETA: 40s - loss: 0.1044 - mean_iou: 0.667 - ETA: 44s - loss: 0.1456 - mean_iou: 0.667 - ETA: 43s - loss: 0.1229 - mean_iou: 0.667 - ETA: 42s - loss: 0.1067 - mean_iou: 0.667 - ETA: 40s - loss: 0.1147 - mean_iou: 0.667 - ETA: 40s - loss: 0.1204 - mean_iou: 0.667 - ETA: 39s - loss: 0.1175 - mean_iou: 0.667 - ETA: 39s - loss: 0.1136 - mean_iou: 0.667 - ETA: 38s - loss: 0.1125 - mean_iou: 0.667 - ETA: 38s - loss: 0.1096 - mean_iou: 0.668 - ETA: 38s - loss: 0.1058 - mean_iou: 0.668 - ETA: 38s - loss: 0.1027 - mean_iou: 0.668 - ETA: 37s - loss: 0.1005 - mean_iou: 0.668 - ETA: 37s - loss: 0.0996 - mean_iou: 0.668 - ETA: 36s - loss: 0.1001 - mean_iou: 0.668 - ETA: 36s - loss: 0.1015 - mean_iou: 0.668 - ETA: 36s - loss: 0.0984 - mean_iou: 0.668 - ETA: 35s - loss: 0.0996 - mean_iou: 0.669 - ETA: 35s - loss: 0.0973 - mean_iou: 0.669 - ETA: 34s - loss: 0.0959 - mean_iou: 0.669 - ETA: 33s - loss: 0.0977 - mean_iou: 0.669 - ETA: 33s - loss: 0.0964 - mean_iou: 0.669 - ETA: 32s - loss: 0.0980 - mean_iou: 0.669 - ETA: 32s - loss: 0.0965 - mean_iou: 0.669 - ETA: 31s - loss: 0.0955 - mean_iou: 0.669 - ETA: 31s - loss: 0.0954 - mean_iou: 0.670 - ETA: 30s - loss: 0.0964 - mean_iou: 0.670 - ETA: 29s - loss: 0.0973 - mean_iou: 0.670 - ETA: 29s - loss: 0.0995 - mean_iou: 0.670 - ETA: 28s - loss: 0.1000 - mean_iou: 0.670 - ETA: 27s - loss: 0.0999 - mean_iou: 0.670 - ETA: 27s - loss: 0.0998 - mean_iou: 0.670 - ETA: 26s - loss: 0.0992 - mean_iou: 0.670 - ETA: 25s - loss: 0.0992 - mean_iou: 0.671 - ETA: 25s - loss: 0.0992 - mean_iou: 0.671 - ETA: 24s - loss: 0.0980 - mean_iou: 0.671 - ETA: 23s - loss: 0.0987 - mean_iou: 0.671 - ETA: 23s - loss: 0.0977 - mean_iou: 0.671 - ETA: 22s - loss: 0.0976 - mean_iou: 0.671 - ETA: 21s - loss: 0.0970 - mean_iou: 0.671 - ETA: 21s - loss: 0.0995 - mean_iou: 0.671 - ETA: 20s - loss: 0.0995 - mean_iou: 0.672 - ETA: 19s - loss: 0.0995 - mean_iou: 0.672 - ETA: 19s - loss: 0.0999 - mean_iou: 0.672 - ETA: 18s - loss: 0.0991 - mean_iou: 0.672 - ETA: 17s - loss: 0.0983 - mean_iou: 0.672 - ETA: 17s - loss: 0.0995 - mean_iou: 0.672 - ETA: 16s - loss: 0.0997 - mean_iou: 0.672 - ETA: 16s - loss: 0.1000 - mean_iou: 0.672 - ETA: 15s - loss: 0.0993 - mean_iou: 0.673 - ETA: 14s - loss: 0.0983 - mean_iou: 0.673 - ETA: 14s - loss: 0.0978 - mean_iou: 0.673 - ETA: 13s - loss: 0.0981 - mean_iou: 0.673 - ETA: 13s - loss: 0.0981 - mean_iou: 0.673 - ETA: 12s - loss: 0.0969 - mean_iou: 0.673 - ETA: 11s - loss: 0.0961 - mean_iou: 0.673 - ETA: 11s - loss: 0.0958 - mean_iou: 0.673 - ETA: 10s - loss: 0.0952 - mean_iou: 0.673 - ETA: 9s - loss: 0.0965 - mean_iou: 0.674 - ETA: 9s - loss: 0.0970 - mean_iou: 0.67 - ETA: 8s - loss: 0.0970 - mean_iou: 0.67 - ETA: 8s - loss: 0.0963 - mean_iou: 0.67 - ETA: 7s - loss: 0.0970 - mean_iou: 0.67 - ETA: 6s - loss: 0.0964 - mean_iou: 0.67 - ETA: 6s - loss: 0.0978 - mean_iou: 0.67 - ETA: 5s - loss: 0.0976 - mean_iou: 0.67 - ETA: 5s - loss: 0.0972 - mean_iou: 0.67 - ETA: 4s - loss: 0.0969 - mean_iou: 0.67 - ETA: 3s - loss: 0.0962 - mean_iou: 0.67 - ETA: 3s - loss: 0.0961 - mean_iou: 0.67 - ETA: 2s - loss: 0.0958 - mean_iou: 0.67 - ETA: 2s - loss: 0.0950 - mean_iou: 0.67 - ETA: 1s - loss: 0.0950 - mean_iou: 0.67 - ETA: 0s - loss: 0.0953 - mean_iou: 0.67 - ETA: 0s - loss: 0.0955 - mean_iou: 0.6759\n",
      "Epoch 00008: val_loss improved from 0.10373 to 0.09552, saving model to model-dsbowl2018-1.h5\n",
      "603/603 [==============================] - 49s 81ms/step - loss: 0.0953 - mean_iou: 0.6760 - val_loss: 0.0955 - val_mean_iou: 0.6853\n",
      "Epoch 9/100\n"
     ]
    },
    {
     "name": "stdout",
     "output_type": "stream",
     "text": [
      "376/603 [=================>............] - ETA: 53s - loss: 0.0509 - mean_iou: 0.686 - ETA: 46s - loss: 0.0591 - mean_iou: 0.686 - ETA: 44s - loss: 0.0711 - mean_iou: 0.686 - ETA: 43s - loss: 0.0950 - mean_iou: 0.686 - ETA: 42s - loss: 0.0972 - mean_iou: 0.686 - ETA: 40s - loss: 0.0975 - mean_iou: 0.686 - ETA: 41s - loss: 0.1090 - mean_iou: 0.686 - ETA: 40s - loss: 0.1105 - mean_iou: 0.686 - ETA: 39s - loss: 0.1122 - mean_iou: 0.686 - ETA: 39s - loss: 0.1117 - mean_iou: 0.686 - ETA: 39s - loss: 0.1076 - mean_iou: 0.686 - ETA: 39s - loss: 0.1056 - mean_iou: 0.687 - ETA: 38s - loss: 0.1047 - mean_iou: 0.687 - ETA: 37s - loss: 0.1044 - mean_iou: 0.687 - ETA: 37s - loss: 0.1040 - mean_iou: 0.687 - ETA: 36s - loss: 0.1065 - mean_iou: 0.687 - ETA: 36s - loss: 0.1038 - mean_iou: 0.687 - ETA: 36s - loss: 0.1013 - mean_iou: 0.687 - ETA: 36s - loss: 0.1036 - mean_iou: 0.687 - ETA: 36s - loss: 0.1022 - mean_iou: 0.687 - ETA: 35s - loss: 0.1024 - mean_iou: 0.687 - ETA: 34s - loss: 0.1034 - mean_iou: 0.687 - ETA: 34s - loss: 0.1036 - mean_iou: 0.688 - ETA: 33s - loss: 0.1035 - mean_iou: 0.688 - ETA: 32s - loss: 0.1036 - mean_iou: 0.688 - ETA: 32s - loss: 0.1008 - mean_iou: 0.688 - ETA: 31s - loss: 0.0991 - mean_iou: 0.688 - ETA: 31s - loss: 0.1002 - mean_iou: 0.688 - ETA: 30s - loss: 0.1010 - mean_iou: 0.688 - ETA: 29s - loss: 0.1003 - mean_iou: 0.688 - ETA: 28s - loss: 0.1014 - mean_iou: 0.688 - ETA: 28s - loss: 0.1032 - mean_iou: 0.688 - ETA: 27s - loss: 0.1027 - mean_iou: 0.689 - ETA: 26s - loss: 0.1021 - mean_iou: 0.689 - ETA: 26s - loss: 0.1008 - mean_iou: 0.689 - ETA: 25s - loss: 0.1009 - mean_iou: 0.689 - ETA: 24s - loss: 0.0995 - mean_iou: 0.689 - ETA: 23s - loss: 0.0984 - mean_iou: 0.689 - ETA: 23s - loss: 0.0980 - mean_iou: 0.689 - ETA: 22s - loss: 0.0964 - mean_iou: 0.689 - ETA: 21s - loss: 0.0954 - mean_iou: 0.689 - ETA: 21s - loss: 0.0963 - mean_iou: 0.689 - ETA: 20s - loss: 0.0947 - mean_iou: 0.689 - ETA: 19s - loss: 0.0951 - mean_iou: 0.690 - ETA: 19s - loss: 0.0945 - mean_iou: 0.690 - ETA: 18s - loss: 0.0942 - mean_iou: 0.690 - ETA: 17s - loss: 0.0951 - mean_iou: 0.6903"
     ]
    },
    {
     "ename": "KeyboardInterrupt",
     "evalue": "",
     "output_type": "error",
     "traceback": [
      "\u001b[1;31m---------------------------------------------------------------------------\u001b[0m",
      "\u001b[1;31mKeyboardInterrupt\u001b[0m                         Traceback (most recent call last)",
      "\u001b[1;32m<ipython-input-11-d9eb5562d482>\u001b[0m in \u001b[0;36m<module>\u001b[1;34m()\u001b[0m\n\u001b[0;32m      9\u001b[0m \u001b[1;31m# fitting\u001b[0m\u001b[1;33m\u001b[0m\u001b[1;33m\u001b[0m\u001b[0m\n\u001b[0;32m     10\u001b[0m results = model.fit(X_train, Y_train, validation_split=val_split, batch_size=8, epochs=n_epochs, \n\u001b[1;32m---> 11\u001b[1;33m                     callbacks=[earlystopper, checkpointer])\n\u001b[0m",
      "\u001b[1;32m~\\Anaconda3\\lib\\site-packages\\keras\\engine\\training.py\u001b[0m in \u001b[0;36mfit\u001b[1;34m(self, x, y, batch_size, epochs, verbose, callbacks, validation_split, validation_data, shuffle, class_weight, sample_weight, initial_epoch, steps_per_epoch, validation_steps, **kwargs)\u001b[0m\n\u001b[0;32m   1667\u001b[0m                               \u001b[0minitial_epoch\u001b[0m\u001b[1;33m=\u001b[0m\u001b[0minitial_epoch\u001b[0m\u001b[1;33m,\u001b[0m\u001b[1;33m\u001b[0m\u001b[0m\n\u001b[0;32m   1668\u001b[0m                               \u001b[0msteps_per_epoch\u001b[0m\u001b[1;33m=\u001b[0m\u001b[0msteps_per_epoch\u001b[0m\u001b[1;33m,\u001b[0m\u001b[1;33m\u001b[0m\u001b[0m\n\u001b[1;32m-> 1669\u001b[1;33m                               validation_steps=validation_steps)\n\u001b[0m\u001b[0;32m   1670\u001b[0m \u001b[1;33m\u001b[0m\u001b[0m\n\u001b[0;32m   1671\u001b[0m     def evaluate(self, x=None, y=None,\n",
      "\u001b[1;32m~\\Anaconda3\\lib\\site-packages\\keras\\engine\\training.py\u001b[0m in \u001b[0;36m_fit_loop\u001b[1;34m(self, f, ins, out_labels, batch_size, epochs, verbose, callbacks, val_f, val_ins, shuffle, callback_metrics, initial_epoch, steps_per_epoch, validation_steps)\u001b[0m\n\u001b[0;32m   1204\u001b[0m                         \u001b[0mins_batch\u001b[0m\u001b[1;33m[\u001b[0m\u001b[0mi\u001b[0m\u001b[1;33m]\u001b[0m \u001b[1;33m=\u001b[0m \u001b[0mins_batch\u001b[0m\u001b[1;33m[\u001b[0m\u001b[0mi\u001b[0m\u001b[1;33m]\u001b[0m\u001b[1;33m.\u001b[0m\u001b[0mtoarray\u001b[0m\u001b[1;33m(\u001b[0m\u001b[1;33m)\u001b[0m\u001b[1;33m\u001b[0m\u001b[0m\n\u001b[0;32m   1205\u001b[0m \u001b[1;33m\u001b[0m\u001b[0m\n\u001b[1;32m-> 1206\u001b[1;33m                     \u001b[0mouts\u001b[0m \u001b[1;33m=\u001b[0m \u001b[0mf\u001b[0m\u001b[1;33m(\u001b[0m\u001b[0mins_batch\u001b[0m\u001b[1;33m)\u001b[0m\u001b[1;33m\u001b[0m\u001b[0m\n\u001b[0m\u001b[0;32m   1207\u001b[0m                     \u001b[1;32mif\u001b[0m \u001b[1;32mnot\u001b[0m \u001b[0misinstance\u001b[0m\u001b[1;33m(\u001b[0m\u001b[0mouts\u001b[0m\u001b[1;33m,\u001b[0m \u001b[0mlist\u001b[0m\u001b[1;33m)\u001b[0m\u001b[1;33m:\u001b[0m\u001b[1;33m\u001b[0m\u001b[0m\n\u001b[0;32m   1208\u001b[0m                         \u001b[0mouts\u001b[0m \u001b[1;33m=\u001b[0m \u001b[1;33m[\u001b[0m\u001b[0mouts\u001b[0m\u001b[1;33m]\u001b[0m\u001b[1;33m\u001b[0m\u001b[0m\n",
      "\u001b[1;32m~\\Anaconda3\\lib\\site-packages\\keras\\backend\\tensorflow_backend.py\u001b[0m in \u001b[0;36m__call__\u001b[1;34m(self, inputs)\u001b[0m\n\u001b[0;32m   2473\u001b[0m         \u001b[0msession\u001b[0m \u001b[1;33m=\u001b[0m \u001b[0mget_session\u001b[0m\u001b[1;33m(\u001b[0m\u001b[1;33m)\u001b[0m\u001b[1;33m\u001b[0m\u001b[0m\n\u001b[0;32m   2474\u001b[0m         updated = session.run(fetches=fetches, feed_dict=feed_dict,\n\u001b[1;32m-> 2475\u001b[1;33m                               **self.session_kwargs)\n\u001b[0m\u001b[0;32m   2476\u001b[0m         \u001b[1;32mreturn\u001b[0m \u001b[0mupdated\u001b[0m\u001b[1;33m[\u001b[0m\u001b[1;33m:\u001b[0m\u001b[0mlen\u001b[0m\u001b[1;33m(\u001b[0m\u001b[0mself\u001b[0m\u001b[1;33m.\u001b[0m\u001b[0moutputs\u001b[0m\u001b[1;33m)\u001b[0m\u001b[1;33m]\u001b[0m\u001b[1;33m\u001b[0m\u001b[0m\n\u001b[0;32m   2477\u001b[0m \u001b[1;33m\u001b[0m\u001b[0m\n",
      "\u001b[1;32m~\\Anaconda3\\lib\\site-packages\\tensorflow\\python\\client\\session.py\u001b[0m in \u001b[0;36mrun\u001b[1;34m(self, fetches, feed_dict, options, run_metadata)\u001b[0m\n\u001b[0;32m    787\u001b[0m     \u001b[1;32mtry\u001b[0m\u001b[1;33m:\u001b[0m\u001b[1;33m\u001b[0m\u001b[0m\n\u001b[0;32m    788\u001b[0m       result = self._run(None, fetches, feed_dict, options_ptr,\n\u001b[1;32m--> 789\u001b[1;33m                          run_metadata_ptr)\n\u001b[0m\u001b[0;32m    790\u001b[0m       \u001b[1;32mif\u001b[0m \u001b[0mrun_metadata\u001b[0m\u001b[1;33m:\u001b[0m\u001b[1;33m\u001b[0m\u001b[0m\n\u001b[0;32m    791\u001b[0m         \u001b[0mproto_data\u001b[0m \u001b[1;33m=\u001b[0m \u001b[0mtf_session\u001b[0m\u001b[1;33m.\u001b[0m\u001b[0mTF_GetBuffer\u001b[0m\u001b[1;33m(\u001b[0m\u001b[0mrun_metadata_ptr\u001b[0m\u001b[1;33m)\u001b[0m\u001b[1;33m\u001b[0m\u001b[0m\n",
      "\u001b[1;32m~\\Anaconda3\\lib\\site-packages\\tensorflow\\python\\client\\session.py\u001b[0m in \u001b[0;36m_run\u001b[1;34m(self, handle, fetches, feed_dict, options, run_metadata)\u001b[0m\n\u001b[0;32m    995\u001b[0m     \u001b[1;32mif\u001b[0m \u001b[0mfinal_fetches\u001b[0m \u001b[1;32mor\u001b[0m \u001b[0mfinal_targets\u001b[0m\u001b[1;33m:\u001b[0m\u001b[1;33m\u001b[0m\u001b[0m\n\u001b[0;32m    996\u001b[0m       results = self._do_run(handle, final_targets, final_fetches,\n\u001b[1;32m--> 997\u001b[1;33m                              feed_dict_string, options, run_metadata)\n\u001b[0m\u001b[0;32m    998\u001b[0m     \u001b[1;32melse\u001b[0m\u001b[1;33m:\u001b[0m\u001b[1;33m\u001b[0m\u001b[0m\n\u001b[0;32m    999\u001b[0m       \u001b[0mresults\u001b[0m \u001b[1;33m=\u001b[0m \u001b[1;33m[\u001b[0m\u001b[1;33m]\u001b[0m\u001b[1;33m\u001b[0m\u001b[0m\n",
      "\u001b[1;32m~\\Anaconda3\\lib\\site-packages\\tensorflow\\python\\client\\session.py\u001b[0m in \u001b[0;36m_do_run\u001b[1;34m(self, handle, target_list, fetch_list, feed_dict, options, run_metadata)\u001b[0m\n\u001b[0;32m   1130\u001b[0m     \u001b[1;32mif\u001b[0m \u001b[0mhandle\u001b[0m \u001b[1;32mis\u001b[0m \u001b[1;32mNone\u001b[0m\u001b[1;33m:\u001b[0m\u001b[1;33m\u001b[0m\u001b[0m\n\u001b[0;32m   1131\u001b[0m       return self._do_call(_run_fn, self._session, feed_dict, fetch_list,\n\u001b[1;32m-> 1132\u001b[1;33m                            target_list, options, run_metadata)\n\u001b[0m\u001b[0;32m   1133\u001b[0m     \u001b[1;32melse\u001b[0m\u001b[1;33m:\u001b[0m\u001b[1;33m\u001b[0m\u001b[0m\n\u001b[0;32m   1134\u001b[0m       return self._do_call(_prun_fn, self._session, handle, feed_dict,\n",
      "\u001b[1;32m~\\Anaconda3\\lib\\site-packages\\tensorflow\\python\\client\\session.py\u001b[0m in \u001b[0;36m_do_call\u001b[1;34m(self, fn, *args)\u001b[0m\n\u001b[0;32m   1137\u001b[0m   \u001b[1;32mdef\u001b[0m \u001b[0m_do_call\u001b[0m\u001b[1;33m(\u001b[0m\u001b[0mself\u001b[0m\u001b[1;33m,\u001b[0m \u001b[0mfn\u001b[0m\u001b[1;33m,\u001b[0m \u001b[1;33m*\u001b[0m\u001b[0margs\u001b[0m\u001b[1;33m)\u001b[0m\u001b[1;33m:\u001b[0m\u001b[1;33m\u001b[0m\u001b[0m\n\u001b[0;32m   1138\u001b[0m     \u001b[1;32mtry\u001b[0m\u001b[1;33m:\u001b[0m\u001b[1;33m\u001b[0m\u001b[0m\n\u001b[1;32m-> 1139\u001b[1;33m       \u001b[1;32mreturn\u001b[0m \u001b[0mfn\u001b[0m\u001b[1;33m(\u001b[0m\u001b[1;33m*\u001b[0m\u001b[0margs\u001b[0m\u001b[1;33m)\u001b[0m\u001b[1;33m\u001b[0m\u001b[0m\n\u001b[0m\u001b[0;32m   1140\u001b[0m     \u001b[1;32mexcept\u001b[0m \u001b[0merrors\u001b[0m\u001b[1;33m.\u001b[0m\u001b[0mOpError\u001b[0m \u001b[1;32mas\u001b[0m \u001b[0me\u001b[0m\u001b[1;33m:\u001b[0m\u001b[1;33m\u001b[0m\u001b[0m\n\u001b[0;32m   1141\u001b[0m       \u001b[0mmessage\u001b[0m \u001b[1;33m=\u001b[0m \u001b[0mcompat\u001b[0m\u001b[1;33m.\u001b[0m\u001b[0mas_text\u001b[0m\u001b[1;33m(\u001b[0m\u001b[0me\u001b[0m\u001b[1;33m.\u001b[0m\u001b[0mmessage\u001b[0m\u001b[1;33m)\u001b[0m\u001b[1;33m\u001b[0m\u001b[0m\n",
      "\u001b[1;32m~\\Anaconda3\\lib\\site-packages\\tensorflow\\python\\client\\session.py\u001b[0m in \u001b[0;36m_run_fn\u001b[1;34m(session, feed_dict, fetch_list, target_list, options, run_metadata)\u001b[0m\n\u001b[0;32m   1119\u001b[0m         return tf_session.TF_Run(session, options,\n\u001b[0;32m   1120\u001b[0m                                  \u001b[0mfeed_dict\u001b[0m\u001b[1;33m,\u001b[0m \u001b[0mfetch_list\u001b[0m\u001b[1;33m,\u001b[0m \u001b[0mtarget_list\u001b[0m\u001b[1;33m,\u001b[0m\u001b[1;33m\u001b[0m\u001b[0m\n\u001b[1;32m-> 1121\u001b[1;33m                                  status, run_metadata)\n\u001b[0m\u001b[0;32m   1122\u001b[0m \u001b[1;33m\u001b[0m\u001b[0m\n\u001b[0;32m   1123\u001b[0m     \u001b[1;32mdef\u001b[0m \u001b[0m_prun_fn\u001b[0m\u001b[1;33m(\u001b[0m\u001b[0msession\u001b[0m\u001b[1;33m,\u001b[0m \u001b[0mhandle\u001b[0m\u001b[1;33m,\u001b[0m \u001b[0mfeed_dict\u001b[0m\u001b[1;33m,\u001b[0m \u001b[0mfetch_list\u001b[0m\u001b[1;33m)\u001b[0m\u001b[1;33m:\u001b[0m\u001b[1;33m\u001b[0m\u001b[0m\n",
      "\u001b[1;31mKeyboardInterrupt\u001b[0m: "
     ]
    }
   ],
   "source": [
    "# Fit model\n",
    "earlystopper = EarlyStopping(patience=5, verbose=1)\n",
    "checkpointer = ModelCheckpoint('model-dsbowl2018-1.h5', verbose=1, save_best_only=True)\n",
    "\n",
    "# setup\n",
    "n_epochs  = 100\n",
    "val_split = 0.10\n",
    "\n",
    "# fitting\n",
    "results = model.fit(X_train, Y_train, validation_split=val_split, batch_size=8, epochs=n_epochs, \n",
    "                    callbacks=[earlystopper, checkpointer])"
   ]
  },
  {
   "cell_type": "code",
   "execution_count": null,
   "metadata": {
    "collapsed": true
   },
   "outputs": [],
   "source": [
    "# Predict on train, val and test\n",
    "model = load_model('model-dsbowl2018-1.h5', custom_objects={'mean_iou': mean_iou})\n",
    "preds_train = model.predict(X_train[:int(X_train.shape[0]*0.9)], verbose=1)\n",
    "preds_val = model.predict(X_train[int(X_train.shape[0]*0.9):], verbose=1)\n",
    "preds_test = model.predict(X_test, verbose=1)\n",
    "\n",
    "# Threshold predictions\n",
    "thr = 0.50\n",
    "preds_train_t = (preds_train > thr).astype(np.uint8)\n",
    "preds_val_t = (preds_val > thr).astype(np.uint8)\n",
    "preds_test_t = (preds_test > thr).astype(np.uint8)\n",
    "\n",
    "# Create list of upsampled test masks\n",
    "preds_test_upsampled = []\n",
    "for i in range(len(preds_test)):\n",
    "    preds_test_upsampled.append(resize(np.squeeze(preds_test[i]), \n",
    "                                       (sizes_test[i][0], sizes_test[i][1]), \n",
    "                                       mode='constant', preserve_range=True))"
   ]
  },
  {
   "cell_type": "code",
   "execution_count": null,
   "metadata": {
    "collapsed": true
   },
   "outputs": [],
   "source": [
    "# Perform a sanity check on some random training samples\n",
    "ix = random.randint(0, len(preds_train_t))\n",
    "imshow(X_train[ix])\n",
    "plt.show()\n",
    "imshow(np.squeeze(Y_train[ix]))\n",
    "plt.show()\n",
    "imshow(np.squeeze(preds_train_t[ix]))\n",
    "plt.show()"
   ]
  },
  {
   "cell_type": "code",
   "execution_count": null,
   "metadata": {
    "collapsed": true
   },
   "outputs": [],
   "source": [
    "# Perform a sanity check on some random validation samples\n",
    "ix = random.randint(0, len(preds_val_t))\n",
    "imshow(X_train[int(X_train.shape[0]*0.9):][ix])\n",
    "plt.show()\n",
    "imshow(np.squeeze(Y_train[int(Y_train.shape[0]*0.9):][ix]))\n",
    "plt.show()\n",
    "imshow(np.squeeze(preds_val_t[ix]))\n",
    "plt.show()"
   ]
  },
  {
   "cell_type": "code",
   "execution_count": null,
   "metadata": {
    "collapsed": true
   },
   "outputs": [],
   "source": [
    "# Run-length encoding \n",
    "def rle_encoding(x):\n",
    "    dots = np.where(x.T.flatten() == 1)[0]\n",
    "    run_lengths = []\n",
    "    prev = -2\n",
    "    for b in dots:\n",
    "        if (b>prev+1): run_lengths.extend((b + 1, 0))\n",
    "        run_lengths[-1] += 1\n",
    "        prev = b\n",
    "    return run_lengths\n",
    "\n",
    "def prob_to_rles(x, cutoff=0.5):\n",
    "    lab_img = label(x > cutoff)\n",
    "    for i in range(1, lab_img.max() + 1):\n",
    "        yield rle_encoding(lab_img == i)"
   ]
  },
  {
   "cell_type": "code",
   "execution_count": null,
   "metadata": {
    "collapsed": true
   },
   "outputs": [],
   "source": [
    "new_test_ids = []\n",
    "rles = []\n",
    "for n, id_ in enumerate(test_ids):\n",
    "    rle = list(prob_to_rles(preds_test_upsampled[n]))\n",
    "    rles.extend(rle)\n",
    "    new_test_ids.extend([id_] * len(rle))"
   ]
  },
  {
   "cell_type": "code",
   "execution_count": null,
   "metadata": {
    "collapsed": true
   },
   "outputs": [],
   "source": [
    "# Create submission DataFrame\n",
    "sub = pd.DataFrame()\n",
    "sub['ImageId'] = new_test_ids\n",
    "sub['EncodedPixels'] = pd.Series(rles).apply(lambda x: ' '.join(str(y) for y in x))\n",
    "\n",
    "fname ='sub-dsbowl nep '+str(n_epochs)+' vsplit '+str(val_split)+' seed '+str(seed)+' thr'+str(thr)+'.csv'\n",
    "\n",
    "sub.to_csv(fname, index=False)\n",
    "\n",
    "nm=(time.time() - start_time)/60\n",
    "print (\"Total time %s min\" % nm)"
   ]
  },
  {
   "cell_type": "code",
   "execution_count": null,
   "metadata": {
    "collapsed": true
   },
   "outputs": [],
   "source": []
  }
 ],
 "metadata": {
  "anaconda-cloud": {},
  "kernelspec": {
   "display_name": "Python 3",
   "language": "python",
   "name": "python3"
  },
  "language_info": {
   "codemirror_mode": {
    "name": "ipython",
    "version": 3
   },
   "file_extension": ".py",
   "mimetype": "text/x-python",
   "name": "python",
   "nbconvert_exporter": "python",
   "pygments_lexer": "ipython3",
   "version": "3.6.3"
  }
 },
 "nbformat": 4,
 "nbformat_minor": 1
}
